{
  "nbformat": 4,
  "nbformat_minor": 0,
  "metadata": {
    "colab": {
      "name": "AML - Sprint Challenge.ipynb",
      "version": "0.3.2",
      "provenance": [],
      "include_colab_link": true
    },
    "kernelspec": {
      "name": "python3",
      "display_name": "Python 3"
    }
  },
  "cells": [
    {
      "cell_type": "markdown",
      "metadata": {
        "id": "view-in-github",
        "colab_type": "text"
      },
      "source": [
        "[View in Colaboratory](https://colab.research.google.com/github/sulemc/aml-sc/blob/master/AML_Sprint_Challenge.ipynb)"
      ]
    },
    {
      "metadata": {
        "id": "FYbXz8ZO23fN",
        "colab_type": "text"
      },
      "cell_type": "markdown",
      "source": [
        "**Sprint Challenge:** In this sprint challenge, you will get an opportunity to practice the topics/concepts that you have been exposed to this week."
      ]
    },
    {
      "metadata": {
        "id": "lhHbstZSZF53",
        "colab_type": "text"
      },
      "cell_type": "markdown",
      "source": [
        "**Question 1**: We have a data set with respect to Customer Churn.\n",
        "\n",
        "\n",
        "**1)** Read-in the dataset\n",
        "\n",
        "**2)** Select **only** the columns that will be utilized for model creation\n",
        "\n",
        "**3)** Specify the features that you would like to treat as categorical variables\n",
        "\n",
        "**4)** Specify the features that you would like to treat as numeric features/variables\n",
        "\n",
        "**5) ** Specify the label (i.e. the variable that will be predicted)\n",
        "\n",
        "**6) ** Split the underlying dataset for training/testing purposes. **75%** of the underlying dataset will constitute the training dataset and **25%** of the underlying dataset will constitute the test dataset\n",
        "\n",
        "**7) ** Once the data is split, train 2 classification models\n",
        "\n",
        "**8) ** Once the models are training, score/test the respective models with the test dataset\n",
        "\n",
        "**9) ** Once the testing is complete, evaluate the accuracy of the models by summarizing your findings highlighted in the **Confusion Matrix**\n",
        "\n",
        "**10)** Utilize a \"Cross Validation\" operator to test the reliability of the predictions for each of the respective models\n",
        "\n",
        "**Datasets: ** https://www.dropbox.com/s/1ah2gxzea54r23j/customer-churn-data%20%282%29.csv?raw=1\n",
        "\n"
      ]
    },
    {
      "metadata": {
        "id": "BECwfK7kq42f",
        "colab_type": "text"
      },
      "cell_type": "markdown",
      "source": [
        "**Question 2: ** The dataset contains information regarding Weight, Cholesterol and Gender. Within the \"Gender\" column, females are represented by 0 and males are represented by 1\n",
        "\n",
        "You, as the program director for a health insurance provider, are trying to ascertain if there are natural groups of individuals who are most at risk of coronary heart disease for high weight and high cholesterol. This way, you could be proactive and could consider offering weight and cholesterol management programs to \"at risk\" individuals who receive health insurance through your employer.\n",
        "\n",
        "The **ask** is to determine which group(s) you should look at closely for instituting a weight and cholesterol management program\n",
        "\n",
        "\n",
        "**Dataset**: https://www.dropbox.com/s/zl3s9g4z245jhee/WC_Management_DataSet.csv?raw=1\n"
      ]
    },
    {
      "metadata": {
        "id": "O8dt5Cey269K",
        "colab_type": "text"
      },
      "cell_type": "markdown",
      "source": [
        "**Question 3: ** The dataset includes details on how certain hosuing attributes affects Heating Oil consumption. The **ask** is to predict heating oil consumption for a new set of customers so that appropriate arrangements can be made to ensure sufficient Heating Oil is available to power the houses\n",
        "\n",
        "\n",
        "**Dataset(s):** \n",
        "\n",
        "**Training dataset:** https://www.dropbox.com/s/gmf4un2scs9fauh/HeatingOil_DataSet.csv?raw=1\n",
        "\n",
        "**Scoring dataset:** https://www.dropbox.com/s/6bgfc9fo0wolxyy/HeatingOil_Scoring.csv?raw=1"
      ]
    },
    {
      "metadata": {
        "id": "bBj8kYhchX4F",
        "colab_type": "text"
      },
      "cell_type": "markdown",
      "source": [
        "**Question 4: ** The dataset contains information on attributes that impact the risk level of loan applications at a bank. \n",
        "\n",
        "The ask is to acertain the credit risk of loan applications within the scoring dataset. You will have to categorize the individual applications into \"High\", \"Low\", \"Very Low\", \"Moderate\" and \"DO NOT LEND\"\n",
        "\n",
        "\n",
        "**Dataset(s):** \n",
        "\n",
        "**Training dataset:**  https://www.dropbox.com/s/absze9m2s1lts07/CreditRisk_TrainingData.csv?raw=1\n",
        "\n",
        "**Scoring dataset:** https://www.dropbox.com/s/g90kvo155udaqpu/CreditRisk_Scoring.csv?raw=1"
      ]
    },
    {
      "metadata": {
        "id": "eERDkoUqmBpE",
        "colab_type": "text"
      },
      "cell_type": "markdown",
      "source": [
        "**Question 5: ** For this question, you are going to revist a dataset that has been used previously. It is the dataset from MovieLens  that contains 100,000 ratings from 1000 users on 1700 movies (i.e. MovieLens 100K Dataset)\n",
        "\n",
        "Construct a recommendation system similar to what you did in Coding Challenge #2; however in this case, you will build a recommendation system that  **a) ** Suggests Related Items and b) Suggests Related Users\n",
        "\n",
        "**Hint: **In order to build a recomendation system that covers the above mentioned predictons, you will have to tweak the requisite parameters  associated with the \"Score Matchbox Recommender\" operator\n",
        "\n",
        "\n",
        "**Dataset:** https://grouplens.org/datasets/movielens/ - utilize the MovieLens 100K Dataset"
      ]
    },
    {
      "metadata": {
        "id": "O1EYZVHhsqKH",
        "colab_type": "text"
      },
      "cell_type": "markdown",
      "source": [
        "**OPTIONAL STRETCH GOAL 1**\n",
        "\n",
        "Review SQL - work through this sprint challenge: https://github.com/LambdaSchool/Sprint-Challenge--SQL\n",
        "\n",
        "For turn-in you can just paste your SQL statements in a text block here."
      ]
    },
    {
      "metadata": {
        "id": "9QwS-CIKs6OF",
        "colab_type": "text"
      },
      "cell_type": "markdown",
      "source": [
        "**OPTIONAL STRETCH GOAL 2**\n",
        "\n",
        "Work on deploying a Python (Flask or Django) web application. Resources:\n",
        "\n",
        "- https://www.pythonanywhere.com/details/flask_hosting\n",
        "- https://coderwall.com/p/pstm1w/deploying-a-flask-app-at-heroku\n",
        "- https://github.com/datademofun/heroku-basic-flask\n",
        "- https://github.com/LambdaSchool/Sprint-Challenge--Django-I\n",
        "\n",
        "For turn-in you can add a text block here that (a) describes what you tried to do and how it went, and (b) gives a link to your live deployed site if you succeeded"
      ]
    }
  ]
}